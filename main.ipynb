{
 "cells": [
  {
   "cell_type": "code",
   "execution_count": null,
   "metadata": {},
   "outputs": [],
   "source": [
    "!pip install gradio\n",
    "!pip install matplotlib\n",
    "!pip install -U sentence-transformers"
   ]
  },
  {
   "cell_type": "code",
   "execution_count": null,
   "metadata": {},
   "outputs": [],
   "source": [
    "import gradio as gr\n",
    "import matplotlib\n",
    "import models\n",
    "import utils\n",
    "\n",
    "def infer(gt: str, data: str) -> matplotlib.figure:\n",
    "    nli_res = models.compute_metric(gt, data)\n",
    "    tone_res = models.compare_tone(gt, data)\n",
    "    res_text = \"\"\n",
    "    if (nli_res[\"label\"] == \"neutral\"):\n",
    "        res_text += \"Model's response is unrelated to the Ground Truth\"\n",
    "    if (nli_res[\"label\"] == \"contradiction\"):\n",
    "        res_text += \"Model's response contradicts the Ground Truth\"\n",
    "    if (nli_res[\"label\"] == \"entailment\"):\n",
    "        res_text += \"Ground Truth entails the Model's response\"\n",
    "    return res_text, utils.create_pie_chart_nli(nli_res), utils.plot_tones(tone_res)\n",
    "\n",
    "examples = [[\"Cross-encoders are better than bi-encoders for analyzing the relationship betwen texts\", \"Bi-encoders are superior to cross-encoders\"],\n",
    "            [\"Cross-encoders are better than bi-encoders for analyzing the relationship betwen texts\", \"The cosine similarity function can be used to compare the outputs of a bi-encoder\"],\n",
    "            [\"Cross-encoders are better than bi-encoders for analyzing the relationship betwen texts\", \"Bi-encoders are outperformed by cross-encoders in the task of relationship analysis\"],\n",
    "            [\"Birds can fly. There are fish in the sea.\", \"Fish inhabit the ocean. Birds can aviate.\"],\n",
    "            [\"Birds can fly. There are fish in the sea.\", \"Fish inhabit the ocean. Birds can not aviate.\"]]\n",
    "app = gr.Interface(fn=infer, inputs=[gr.Textbox(label=\"Ground Truth\"), gr.Textbox(label=\"Model Response\")], examples=examples, outputs=[gr.Textbox(label=\"Result\"), gr.Plot(label=\"Comparison with GT\"), gr.Plot(label=\"Difference in Tone\")])\n",
    "app.launch(share=True)"
   ]
  }
 ],
 "metadata": {
  "language_info": {
   "name": "python"
  }
 },
 "nbformat": 4,
 "nbformat_minor": 2
}
